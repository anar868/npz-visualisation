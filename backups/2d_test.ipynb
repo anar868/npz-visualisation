{
 "cells": [
  {
   "cell_type": "code",
   "execution_count": 1,
   "id": "f61bc655",
   "metadata": {},
   "outputs": [],
   "source": [
    "import sys, numpy as np, matplotlib.pyplot as plt"
   ]
  },
  {
   "cell_type": "code",
   "execution_count": 15,
   "id": "1394226c",
   "metadata": {},
   "outputs": [
    {
     "name": "stdout",
     "output_type": "stream",
     "text": [
      "(57, 1, 580, 2)\n"
     ]
    }
   ],
   "source": [
    "NPZ   = '/Users/anarmammadov/Documents/Research/DREAM 2025 /PoseEstimation/PosePipeline_running/pose_pipeline/5/ON/5_1.npz'\n",
    "FRAME = 0    \n",
    "\n",
    "data = np.load(NPZ, allow_pickle=True)\n",
    "if \"keypoints2d\" not in data.files:\n",
    "    raise KeyError(f\"'keypoints2d' not found in {NPZ}. Keys: {list(data.files)}\")\n",
    "\n",
    "print(data[\"keypoints2d\"].shape)"
   ]
  },
  {
   "cell_type": "code",
   "execution_count": 16,
   "id": "41b1ff30",
   "metadata": {},
   "outputs": [
    {
     "name": "stdout",
     "output_type": "stream",
     "text": [
      "<class 'numpy.ndarray'> float32\n",
      "57\n",
      "(1, 580, 3)\n",
      "5\n"
     ]
    }
   ],
   "source": [
    "data = np.load(NPZ, allow_pickle=True)\n",
    "kp = data[\"keypoints3d\"]\n",
    "\n",
    "print(type(kp), kp.dtype)                 # very likely object\n",
    "print(len(kp))                            # T (frames)\n",
    "print(kp[0].shape)                        # (P,J,3) for frame 0\n",
    "print(sum(a.shape[0] for a in kp[:5]))    # small numbers → P is small (often 1)"
   ]
  }
 ],
 "metadata": {
  "kernelspec": {
   "display_name": ".venv",
   "language": "python",
   "name": "python3"
  },
  "language_info": {
   "codemirror_mode": {
    "name": "ipython",
    "version": 3
   },
   "file_extension": ".py",
   "mimetype": "text/x-python",
   "name": "python",
   "nbconvert_exporter": "python",
   "pygments_lexer": "ipython3",
   "version": "3.12.4"
  }
 },
 "nbformat": 4,
 "nbformat_minor": 5
}
